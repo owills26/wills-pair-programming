{
 "cells": [
  {
   "cell_type": "code",
   "execution_count": 8,
   "id": "3b0b439e-4ae5-4d94-a71a-95232bbdb022",
   "metadata": {
    "tags": []
   },
   "outputs": [],
   "source": [
    "#Olivia Wills - Polar to Cartesian Coordinates\n",
    "\n",
    "import numpy as np\n",
    "def polar_to_cartesian(radius, angle_radians):\n",
    "    assert (type(radius)==float) or (type(radius)==int) or (type(radius)==np.array),\\\n",
    "    \"The radius should be a float, np array or an integer\"\n",
    "    assert (type(angle_radians)==float) or (type(angle_radians)==int) or (type(angle_radians)==np.array),\\\n",
    "    \"The angle should be a float, np array or an integer\"\n",
    "    #Defensive programming, makes sure that a string isn't being inputted\n",
    "    #Nice! Good job implementing what we learned in class\n",
    "    x = radius * np.cos(angle_radians)\n",
    "    #Calculates the x component\n",
    "    y = radius * np.sin(angle_radians)\n",
    "    #Calculates the y component\n",
    "    return x, y\n",
    "#simple, I like it!\n"
   ]
  },
  {
   "cell_type": "code",
   "execution_count": 9,
   "id": "e9daaa1e-9d8e-400a-9c14-5b16b061404b",
   "metadata": {
    "tags": []
   },
   "outputs": [
    {
     "data": {
      "text/plain": [
       "(0.8775825618903728, 0.479425538604203)"
      ]
     },
     "execution_count": 9,
     "metadata": {},
     "output_type": "execute_result"
    }
   ],
   "source": [
    "#testing\n",
    "\n",
    "polar_to_cartesian(1, 1/2)"
   ]
  },
  {
   "cell_type": "code",
   "execution_count": 14,
   "id": "88955123-a845-4a3b-b459-32cbe2b1fc8a",
   "metadata": {
    "tags": []
   },
   "outputs": [
    {
     "data": {
      "text/plain": [
       "(8.660254037844387, 4.999999999999999)"
      ]
     },
     "execution_count": 14,
     "metadata": {},
     "output_type": "execute_result"
    }
   ],
   "source": [
    "polar_to_cartesian(10, (np.pi)/6)"
   ]
  },
  {
   "cell_type": "code",
   "execution_count": null,
   "id": "f05c6e3b-1a71-47d7-84e7-f6075e1c4fba",
   "metadata": {},
   "outputs": [],
   "source": []
  }
 ],
 "metadata": {
  "kernelspec": {
   "display_name": "Python 3 (ipykernel)",
   "language": "python",
   "name": "python3"
  },
  "language_info": {
   "codemirror_mode": {
    "name": "ipython",
    "version": 3
   },
   "file_extension": ".py",
   "mimetype": "text/x-python",
   "name": "python",
   "nbconvert_exporter": "python",
   "pygments_lexer": "ipython3",
   "version": "3.11.5"
  }
 },
 "nbformat": 4,
 "nbformat_minor": 5
}
